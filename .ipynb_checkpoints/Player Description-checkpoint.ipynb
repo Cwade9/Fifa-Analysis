{
 "cells": [
  {
   "cell_type": "code",
   "execution_count": 12,
   "metadata": {},
   "outputs": [],
   "source": [
    "from pandas import Series, DataFrame\n",
    "import pandas as pd\n",
    "import numpy as np\n",
    "import matplotlib.pyplot as plt\n",
    "import seaborn as sns\n",
    "import statsmodels as sm\n",
    "from io import StringIO"
   ]
  },
  {
   "cell_type": "code",
   "execution_count": 13,
   "metadata": {},
   "outputs": [],
   "source": [
    "df = pd.read_csv('data/data.csv')"
   ]
  },
  {
   "cell_type": "code",
   "execution_count": 14,
   "metadata": {},
   "outputs": [],
   "source": [
    "df1= df.drop(['Finishing',\n",
    "                    'HeadingAccuracy',\n",
    "                    'ShortPassing',\n",
    "                    'Volleys',\n",
    "                    'Dribbling',\n",
    "                    'Curve',\n",
    "                    'FKAccuracy',\n",
    "                    'LongPassing',\n",
    "                    'BallControl',\n",
    "                    'Acceleration',\n",
    "                    'SprintSpeed',\n",
    "                    'Agility',\n",
    "                    'Reactions',\n",
    "                    'Balance',\n",
    "                    'ShotPower',\n",
    "                    'Jumping',\n",
    "                    'Stamina',\n",
    "                    'Strength',\n",
    "                    'LongShots',\n",
    "                    'Aggression',\n",
    "                    'Interceptions',\n",
    "                    'Positioning',\n",
    "                    'Vision',\n",
    "                    'Penalties',\n",
    "                    'Composure',\n",
    "                    'Marking',\n",
    "                    'StandingTackle',\n",
    "                    'SlidingTackle',\n",
    "                    'GKDiving',\n",
    "                    'GKHandling',\n",
    "                    'GKKicking',\n",
    "                    'GKPositioning',\n",
    "                    'GKReflexes','LWB', 'RWB', 'LB', 'LCB', 'CB', 'RCB', 'RB', 'LAM', 'CAM', 'RAM', 'LM', 'LCM', 'CM', 'RCM', 'RM', 'LDM', 'CDM', 'RDM','LS', 'ST', 'RS', 'LW', 'LF', 'CF', 'RF', 'RW','Crossing'], axis=1)"
   ]
  },
  {
   "cell_type": "code",
   "execution_count": 15,
   "metadata": {},
   "outputs": [],
   "source": [
    "df1 = df1.loc[:, ['Wage','Value','Release Clause']].replace(\"€\",\" \", inplace=True)"
   ]
  },
  {
   "cell_type": "code",
   "execution_count": 16,
   "metadata": {},
   "outputs": [],
   "source": [
    "df1"
   ]
  },
  {
   "cell_type": "code",
   "execution_count": null,
   "metadata": {},
   "outputs": [],
   "source": []
  },
  {
   "cell_type": "code",
   "execution_count": null,
   "metadata": {},
   "outputs": [],
   "source": [
    "https://stackoverflow.com/questions/45216862/pandas-replace-contents-of-multiple-columns-at-a-time-for-multiple-conditions"
   ]
  },
  {
   "cell_type": "code",
   "execution_count": 11,
   "metadata": {},
   "outputs": [],
   "source": []
  },
  {
   "cell_type": "code",
   "execution_count": 12,
   "metadata": {},
   "outputs": [
    {
     "data": {
      "text/plain": [
       "0        565K\n",
       "1        405K\n",
       "2        290K\n",
       "3        260K\n",
       "4        355K\n",
       "5        340K\n",
       "6        420K\n",
       "7        455K\n",
       "8        380K\n",
       "9         94K\n",
       "10       205K\n",
       "11       355K\n",
       "12       125K\n",
       "13       285K\n",
       "14       225K\n",
       "15       205K\n",
       "16       205K\n",
       "17       145K\n",
       "18       240K\n",
       "19       240K\n",
       "20       315K\n",
       "21       200K\n",
       "22       130K\n",
       "23       300K\n",
       "24       215K\n",
       "25       100K\n",
       "26       255K\n",
       "27       285K\n",
       "28       315K\n",
       "29       165K\n",
       "         ... \n",
       "18177      1K\n",
       "18178      1K\n",
       "18179      1K\n",
       "18180      1K\n",
       "18181      1K\n",
       "18182      1K\n",
       "18183      1K\n",
       "18184      1K\n",
       "18185      1K\n",
       "18186      1K\n",
       "18187      1K\n",
       "18188      1K\n",
       "18189      1K\n",
       "18190      1K\n",
       "18191      1K\n",
       "18192      1K\n",
       "18193      1K\n",
       "18194      1K\n",
       "18195      1K\n",
       "18196      1K\n",
       "18197      1K\n",
       "18198      1K\n",
       "18199      1K\n",
       "18200      1K\n",
       "18201      1K\n",
       "18202      1K\n",
       "18203      1K\n",
       "18204      1K\n",
       "18205      1K\n",
       "18206      1K\n",
       "Name: Wage, Length: 18207, dtype: object"
      ]
     },
     "execution_count": 12,
     "metadata": {},
     "output_type": "execute_result"
    }
   ],
   "source": []
  },
  {
   "cell_type": "code",
   "execution_count": null,
   "metadata": {},
   "outputs": [],
   "source": []
  },
  {
   "cell_type": "code",
   "execution_count": null,
   "metadata": {},
   "outputs": [],
   "source": []
  },
  {
   "cell_type": "code",
   "execution_count": null,
   "metadata": {},
   "outputs": [],
   "source": [
    "https://stackoverflow.com/questions/45216862/pandas-replace-contents-of-multiple-columns-at-a-time-for-multiple-conditions"
   ]
  },
  {
   "cell_type": "code",
   "execution_count": 8,
   "metadata": {},
   "outputs": [],
   "source": [
    "https://realpython.com/fast-flexible-pandas/"
   ]
  },
  {
   "cell_type": "code",
   "execution_count": null,
   "metadata": {},
   "outputs": [],
   "source": []
  }
 ],
 "metadata": {
  "kernelspec": {
   "display_name": "Python 3",
   "language": "python",
   "name": "python3"
  },
  "language_info": {
   "codemirror_mode": {
    "name": "ipython",
    "version": 3
   },
   "file_extension": ".py",
   "mimetype": "text/x-python",
   "name": "python",
   "nbconvert_exporter": "python",
   "pygments_lexer": "ipython3",
   "version": "3.6.8"
  }
 },
 "nbformat": 4,
 "nbformat_minor": 2
}
