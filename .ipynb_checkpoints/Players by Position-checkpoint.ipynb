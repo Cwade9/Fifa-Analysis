{
 "cells": [
  {
   "cell_type": "markdown",
   "metadata": {},
   "source": [
    "Preview of the data:"
   ]
  },
  {
   "cell_type": "code",
   "execution_count": 1,
   "metadata": {},
   "outputs": [],
   "source": [
    "from pandas import Series, DataFrame\n",
    "import pandas as pd\n",
    "import numpy as np\n",
    "import matplotlib.pyplot as plt\n",
    "import seaborn as sns\n",
    "import statsmodels as sm\n",
    "from io import StringIO"
   ]
  },
  {
   "cell_type": "code",
   "execution_count": 2,
   "metadata": {},
   "outputs": [],
   "source": [
    "df = pd.read_csv('data/data.csv')"
   ]
  },
  {
   "cell_type": "code",
   "execution_count": 3,
   "metadata": {},
   "outputs": [],
   "source": [
    "df = df['Position'].value_counts().sort_index()"
   ]
  },
  {
   "cell_type": "code",
   "execution_count": 4,
   "metadata": {},
   "outputs": [],
   "source": [
    "dft = pd.DataFrame(data=df)"
   ]
  },
  {
   "cell_type": "code",
   "execution_count": 5,
   "metadata": {},
   "outputs": [],
   "source": [
    "df_trans = dft.T"
   ]
  },
  {
   "cell_type": "code",
   "execution_count": 6,
   "metadata": {},
   "outputs": [
    {
     "data": {
      "text/html": [
       "<div>\n",
       "<style scoped>\n",
       "    .dataframe tbody tr th:only-of-type {\n",
       "        vertical-align: middle;\n",
       "    }\n",
       "\n",
       "    .dataframe tbody tr th {\n",
       "        vertical-align: top;\n",
       "    }\n",
       "\n",
       "    .dataframe thead th {\n",
       "        text-align: right;\n",
       "    }\n",
       "</style>\n",
       "<table border=\"1\" class=\"dataframe\">\n",
       "  <thead>\n",
       "    <tr style=\"text-align: right;\">\n",
       "      <th></th>\n",
       "      <th>CAM</th>\n",
       "      <th>CB</th>\n",
       "      <th>CDM</th>\n",
       "      <th>CF</th>\n",
       "      <th>CM</th>\n",
       "      <th>GK</th>\n",
       "      <th>LAM</th>\n",
       "      <th>LB</th>\n",
       "      <th>LCB</th>\n",
       "      <th>LCM</th>\n",
       "      <th>...</th>\n",
       "      <th>RB</th>\n",
       "      <th>RCB</th>\n",
       "      <th>RCM</th>\n",
       "      <th>RDM</th>\n",
       "      <th>RF</th>\n",
       "      <th>RM</th>\n",
       "      <th>RS</th>\n",
       "      <th>RW</th>\n",
       "      <th>RWB</th>\n",
       "      <th>ST</th>\n",
       "    </tr>\n",
       "  </thead>\n",
       "  <tbody>\n",
       "    <tr>\n",
       "      <th>Position</th>\n",
       "      <td>958</td>\n",
       "      <td>1778</td>\n",
       "      <td>948</td>\n",
       "      <td>74</td>\n",
       "      <td>1394</td>\n",
       "      <td>2025</td>\n",
       "      <td>21</td>\n",
       "      <td>1322</td>\n",
       "      <td>648</td>\n",
       "      <td>395</td>\n",
       "      <td>...</td>\n",
       "      <td>1291</td>\n",
       "      <td>662</td>\n",
       "      <td>391</td>\n",
       "      <td>248</td>\n",
       "      <td>16</td>\n",
       "      <td>1124</td>\n",
       "      <td>203</td>\n",
       "      <td>370</td>\n",
       "      <td>87</td>\n",
       "      <td>2152</td>\n",
       "    </tr>\n",
       "  </tbody>\n",
       "</table>\n",
       "<p>1 rows × 27 columns</p>\n",
       "</div>"
      ],
      "text/plain": [
       "          CAM    CB  CDM  CF    CM    GK  LAM    LB  LCB  LCM  ...     RB  \\\n",
       "Position  958  1778  948  74  1394  2025   21  1322  648  395  ...   1291   \n",
       "\n",
       "          RCB  RCM  RDM  RF    RM   RS   RW  RWB    ST  \n",
       "Position  662  391  248  16  1124  203  370   87  2152  \n",
       "\n",
       "[1 rows x 27 columns]"
      ]
     },
     "execution_count": 6,
     "metadata": {},
     "output_type": "execute_result"
    }
   ],
   "source": [
    "df_trans"
   ]
  },
  {
   "cell_type": "code",
   "execution_count": 7,
   "metadata": {},
   "outputs": [],
   "source": [
    "Attacker = df_trans.drop(['GK','LWB', 'RWB', 'LB', 'LCB', 'CB', 'RCB', 'RB', 'LAM', 'CAM', 'RAM', 'LM', 'LCM', 'CM', 'RCM', 'RM', 'LDM', 'CDM', 'RDM'], axis=1)\n",
    "Defender = df_trans.drop(['GK','LAM', 'CAM', 'RAM', 'LM', 'LCM', 'CM', 'RCM', 'RM', 'LDM', 'CDM', 'RDM','LS', 'ST', 'RS', 'LW', 'LF', 'CF', 'RF', 'RW'], axis=1)\n",
    "Midfielder = df_trans.drop(['GK','LWB', 'RWB', 'LB', 'LCB', 'CB', 'RCB', 'RB','LS', 'ST', 'RS', 'LW', 'LF', 'CF', 'RF', 'RW'], axis=1)\n",
    "Goalkeeper = df_trans.drop(['LWB', 'RWB', 'LB', 'LCB', 'CB', 'RCB', 'RB', 'LAM', 'CAM', 'RAM', 'LM', 'LCM', 'CM', 'RCM', 'RM', 'LDM', 'CDM', 'RDM','LS', 'ST', 'RS', 'LW', 'LF', 'CF', 'RF', 'RW'], axis=1)"
   ]
  },
  {
   "cell_type": "code",
   "execution_count": 8,
   "metadata": {},
   "outputs": [],
   "source": [
    "Attacker['Attacker'] = Attacker.sum(axis=1)\n",
    "Defender['Defender']= Defender.sum(axis=1)\n",
    "Midfielder['Midfielder'] = Midfielder.sum(axis=1)\n",
    "Goalkeeper['Goalkeeper'] = Goalkeeper.sum(axis=1)"
   ]
  },
  {
   "cell_type": "code",
   "execution_count": 9,
   "metadata": {},
   "outputs": [],
   "source": [
    "Attacker = Attacker.drop(['ST', 'RS', 'LW', 'LF', 'CF', 'RF', 'RW','LS'], axis=1)\n",
    "Midfielder = Midfielder.drop(['LAM', 'CAM', 'RAM', 'LM', 'LCM', 'CM', 'RCM', 'RM', 'LDM', 'CDM', 'RDM'], axis=1)\n",
    "Defender = Defender.drop(['RWB', 'LB', 'LCB', 'CB', 'RCB', 'RB','LWB'], axis=1)\n",
    "Goalkeeper = Goalkeeper.drop(['GK'], axis=1)"
   ]
  },
  {
   "cell_type": "code",
   "execution_count": 10,
   "metadata": {},
   "outputs": [],
   "source": [
    "Position = pd.concat([Attacker,Midfielder,Defender,Goalkeeper], axis=1)"
   ]
  },
  {
   "cell_type": "code",
   "execution_count": 40,
   "metadata": {},
   "outputs": [
    {
     "data": {
      "text/html": [
       "<div>\n",
       "<style scoped>\n",
       "    .dataframe tbody tr th:only-of-type {\n",
       "        vertical-align: middle;\n",
       "    }\n",
       "\n",
       "    .dataframe tbody tr th {\n",
       "        vertical-align: top;\n",
       "    }\n",
       "\n",
       "    .dataframe thead th {\n",
       "        text-align: right;\n",
       "    }\n",
       "</style>\n",
       "<table border=\"1\" class=\"dataframe\">\n",
       "  <thead>\n",
       "    <tr style=\"text-align: right;\">\n",
       "      <th></th>\n",
       "      <th>Attacker</th>\n",
       "      <th>Midfielder</th>\n",
       "      <th>Defender</th>\n",
       "      <th>Goalkeeper</th>\n",
       "    </tr>\n",
       "  </thead>\n",
       "  <tbody>\n",
       "    <tr>\n",
       "      <th>Position</th>\n",
       "      <td>3418</td>\n",
       "      <td>6838</td>\n",
       "      <td>5866</td>\n",
       "      <td>2025</td>\n",
       "    </tr>\n",
       "  </tbody>\n",
       "</table>\n",
       "</div>"
      ],
      "text/plain": [
       "          Attacker  Midfielder  Defender  Goalkeeper\n",
       "Position      3418        6838      5866        2025"
      ]
     },
     "execution_count": 40,
     "metadata": {},
     "output_type": "execute_result"
    }
   ],
   "source": [
    "Position"
   ]
  },
  {
   "cell_type": "code",
   "execution_count": 44,
   "metadata": {},
   "outputs": [],
   "source": [
    "PT = Position.T"
   ]
  },
  {
   "cell_type": "code",
   "execution_count": 50,
   "metadata": {},
   "outputs": [
    {
     "ename": "SyntaxError",
     "evalue": "positional argument follows keyword argument (<ipython-input-50-2e47aeb1939c>, line 3)",
     "output_type": "error",
     "traceback": [
      "\u001b[0;36m  File \u001b[0;32m\"<ipython-input-50-2e47aeb1939c>\"\u001b[0;36m, line \u001b[0;32m3\u001b[0m\n\u001b[0;31m    PT.plot(kind='bar', figsize(10,5),y='Position')\u001b[0m\n\u001b[0m                       ^\u001b[0m\n\u001b[0;31mSyntaxError\u001b[0m\u001b[0;31m:\u001b[0m positional argument follows keyword argument\n"
     ]
    }
   ],
   "source": [
    "plt.style.use('dark_background')\n",
    "\n",
    "PT.plot(kind='bar', figsize(10,5),y='Position')\n"
   ]
  },
  {
   "cell_type": "code",
   "execution_count": null,
   "metadata": {},
   "outputs": [],
   "source": []
  },
  {
   "cell_type": "markdown",
   "metadata": {},
   "source": [
    "# Description of the dataset\n",
    "\n",
    "This dataset has a total of 89 columns. The first \"unnamed\" column is not relevant, so we can just concentrate on the other 88. We can divide them in 3 categories:\n",
    "\n",
    "### 1. Basic attributes\n",
    "\n",
    "The basic attributes of the players and game. They are mostly self explanatory:\n",
    "```\n",
    "\t* ID\n",
    "\t* Name\n",
    "\t* Age\n",
    "\t* Photo\n",
    "\t* Nationality\n",
    "\t* Flag\n",
    "\t* Overall\n",
    "\t* Potential\n",
    "\t* Club\n",
    "\t* Club Logo\n",
    "\t* Value\n",
    "\t* Wage\n",
    "\t* Special\n",
    "\t* Preferred Foot\n",
    "\t* International Reputation\n",
    "\t* Weak Foot\n",
    "\t* Skill Moves\n",
    "\t* Work Rate\n",
    "\t* Body Type\n",
    "\t* Real Face\n",
    "\t* Position\n",
    "\t* Jersey Number\n",
    "\t* Joined\n",
    "\t* Loaned From\n",
    "\t* Contract Valid Until\n",
    "\t* Height\n",
    "\t* Weight\n",
    "\t* Release Clause\n",
    "```\n",
    "\n",
    "Most of these features are categorical, with a few exceptions like Height, Weight, Value, Wage, etc. The attribute `Overall` indicates the rating of the player, **it's an important feature** as we'll try to predict it later."
   ]
  },
  {
   "cell_type": "code",
   "execution_count": null,
   "metadata": {},
   "outputs": [],
   "source": [
    "DataFrame(df, columns = [\n",
    "                    'Crossing',\n",
    "                    'Finishing',\n",
    "                    'HeadingAccuracy',\n",
    "                    'ShortPassing',\n",
    "                    'Volleys',\n",
    "                    'Dribbling',\n",
    "                    'Curve',\n",
    "                    'FKAccuracy',\n",
    "                    'LongPassing',\n",
    "                    'BallControl',\n",
    "                    'Acceleration',\n",
    "                    'SprintSpeed',\n",
    "                    'Agility',\n",
    "                    'Reactions',\n",
    "                    'Balance',\n",
    "                    'ShotPower',\n",
    "                    'Jumping',\n",
    "                    'Stamina',\n",
    "                    'Strength',\n",
    "                    'LongShots',\n",
    "                    'Aggression',\n",
    "                    'Interceptions',\n",
    "                    'Positioning',\n",
    "                    'Vision',\n",
    "                    'Penalties',\n",
    "                    'Composure',\n",
    "                    'Marking',\n",
    "                    'StandingTackle',\n",
    "                    'SlidingTackle',\n",
    "                    'GKDiving',\n",
    "                    'GKHandling',\n",
    "                    'GKKicking',\n",
    "                    'GKPositioning',\n",
    "                    'GKReflexes'\n",
    "                                ])\n",
    "    \n"
   ]
  },
  {
   "cell_type": "markdown",
   "metadata": {},
   "source": [
    "### 2. Skills and player attributes\n",
    "\n",
    "These features indicate the skills of players for each one of those traits. Generally numerical, ranging between 0 (worst) - 100 (best).\n",
    "\n",
    "```\n",
    "\t* Crossing\n",
    "\t* Finishing\n",
    "\t* HeadingAccuracy\n",
    "\t* ShortPassing\n",
    "\t* Volleys\n",
    "\t* Dribbling\n",
    "\t* Curve\n",
    "\t* FKAccuracy\n",
    "\t* LongPassing\n",
    "\t* BallControl\n",
    "\t* Acceleration\n",
    "\t* SprintSpeed\n",
    "\t* Agility\n",
    "\t* Reactions\n",
    "\t* Balance\n",
    "\t* ShotPower\n",
    "\t* Jumping\n",
    "\t* Stamina\n",
    "\t* Strength\n",
    "\t* LongShots\n",
    "\t* Aggression\n",
    "\t* Interceptions\n",
    "\t* Positioning\n",
    "\t* Vision\n",
    "\t* Penalties\n",
    "\t* Composure\n",
    "\t* Marking\n",
    "\t* StandingTackle\n",
    "\t* SlidingTackle\n",
    "\t* GKDiving\n",
    "\t* GKHandling\n",
    "\t* GKKicking\n",
    "\t* GKPositioning\n",
    "\t* GKReflexes\n",
    "```"
   ]
  },
  {
   "cell_type": "markdown",
   "metadata": {},
   "source": [
    "### 3. Performance of player on different positions\n",
    "\n",
    "Players are generally identified with one general playing role:\n",
    "* Goalkeepers\n",
    "* Defenders\n",
    "* Midfielders\n",
    "* Attackers\n",
    "\n",
    "Some players have mixed roles, for example, \"attacking midfielders\", or \"defensive midfielders\". The performance of the player will vary depending the positions they play. For example, Messi plays 94 overall, but that's only when playing as an attacker. If you make Messi play as a left back (defender), he'll drop to 64:\n",
    "\n",
    "![positions](img/sofifa-2.png)\n",
    "\n",
    "Those values are captured in the columns:\n",
    "\n",
    "```\n",
    "\t* LS\n",
    "\t* ST\n",
    "\t* RS\n",
    "\t* LW\n",
    "\t* LF\n",
    "\t* CF\n",
    "\t* RF\n",
    "\t* RW\n",
    "\t* LAM\n",
    "\t* CAM\n",
    "\t* RAM\n",
    "\t* LM\n",
    "\t* LCM\n",
    "\t* CM\n",
    "\t* RCM\n",
    "\t* RM\n",
    "\t* LWB\n",
    "\t* LDM\n",
    "\t* CDM\n",
    "\t* RDM\n",
    "\t* RWB\n",
    "\t* LB\n",
    "\t* LCB\n",
    "\t* CB\n",
    "\t* RCB\n",
    "\t* RB\n",
    "```"
   ]
  }
 ],
 "metadata": {
  "kernelspec": {
   "display_name": "Python 3",
   "language": "python",
   "name": "python3"
  },
  "language_info": {
   "codemirror_mode": {
    "name": "ipython",
    "version": 3
   },
   "file_extension": ".py",
   "mimetype": "text/x-python",
   "name": "python",
   "nbconvert_exporter": "python",
   "pygments_lexer": "ipython3",
   "version": "3.6.8"
  }
 },
 "nbformat": 4,
 "nbformat_minor": 2
}
