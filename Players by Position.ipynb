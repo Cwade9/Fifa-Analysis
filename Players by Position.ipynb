{
 "cells": [
  {
   "cell_type": "markdown",
   "metadata": {},
   "source": [
    "Preview of the data:"
   ]
  },
  {
   "cell_type": "code",
   "execution_count": 2,
   "metadata": {},
   "outputs": [],
   "source": [
    "from pandas import Series, DataFrame\n",
    "import pandas as pd\n",
    "import numpy as np\n",
    "import matplotlib.pyplot as plt\n",
    "import seaborn as sns\n",
    "import statsmodels as sm\n",
    "from io import StringIO"
   ]
  },
  {
   "cell_type": "code",
   "execution_count": 3,
   "metadata": {},
   "outputs": [],
   "source": [
    "df = pd.read_csv('data/data.csv')"
   ]
  },
  {
   "cell_type": "code",
   "execution_count": 4,
   "metadata": {},
   "outputs": [],
   "source": [
    "df = df['Position'].value_counts().sort_index()"
   ]
  },
  {
   "cell_type": "code",
   "execution_count": 5,
   "metadata": {},
   "outputs": [],
   "source": [
    "dft = pd.DataFrame(data=df)"
   ]
  },
  {
   "cell_type": "code",
   "execution_count": 6,
   "metadata": {},
   "outputs": [],
   "source": [
    "df_trans = dft.T"
   ]
  },
  {
   "cell_type": "code",
   "execution_count": 7,
   "metadata": {},
   "outputs": [
    {
     "data": {
      "text/html": [
       "<div>\n",
       "<style scoped>\n",
       "    .dataframe tbody tr th:only-of-type {\n",
       "        vertical-align: middle;\n",
       "    }\n",
       "\n",
       "    .dataframe tbody tr th {\n",
       "        vertical-align: top;\n",
       "    }\n",
       "\n",
       "    .dataframe thead th {\n",
       "        text-align: right;\n",
       "    }\n",
       "</style>\n",
       "<table border=\"1\" class=\"dataframe\">\n",
       "  <thead>\n",
       "    <tr style=\"text-align: right;\">\n",
       "      <th></th>\n",
       "      <th>CAM</th>\n",
       "      <th>CB</th>\n",
       "      <th>CDM</th>\n",
       "      <th>CF</th>\n",
       "      <th>CM</th>\n",
       "      <th>GK</th>\n",
       "      <th>LAM</th>\n",
       "      <th>LB</th>\n",
       "      <th>LCB</th>\n",
       "      <th>LCM</th>\n",
       "      <th>...</th>\n",
       "      <th>RB</th>\n",
       "      <th>RCB</th>\n",
       "      <th>RCM</th>\n",
       "      <th>RDM</th>\n",
       "      <th>RF</th>\n",
       "      <th>RM</th>\n",
       "      <th>RS</th>\n",
       "      <th>RW</th>\n",
       "      <th>RWB</th>\n",
       "      <th>ST</th>\n",
       "    </tr>\n",
       "  </thead>\n",
       "  <tbody>\n",
       "    <tr>\n",
       "      <th>Position</th>\n",
       "      <td>958</td>\n",
       "      <td>1778</td>\n",
       "      <td>948</td>\n",
       "      <td>74</td>\n",
       "      <td>1394</td>\n",
       "      <td>2025</td>\n",
       "      <td>21</td>\n",
       "      <td>1322</td>\n",
       "      <td>648</td>\n",
       "      <td>395</td>\n",
       "      <td>...</td>\n",
       "      <td>1291</td>\n",
       "      <td>662</td>\n",
       "      <td>391</td>\n",
       "      <td>248</td>\n",
       "      <td>16</td>\n",
       "      <td>1124</td>\n",
       "      <td>203</td>\n",
       "      <td>370</td>\n",
       "      <td>87</td>\n",
       "      <td>2152</td>\n",
       "    </tr>\n",
       "  </tbody>\n",
       "</table>\n",
       "<p>1 rows × 27 columns</p>\n",
       "</div>"
      ],
      "text/plain": [
       "          CAM    CB  CDM  CF    CM    GK  LAM    LB  LCB  LCM  ...     RB  \\\n",
       "Position  958  1778  948  74  1394  2025   21  1322  648  395  ...   1291   \n",
       "\n",
       "          RCB  RCM  RDM  RF    RM   RS   RW  RWB    ST  \n",
       "Position  662  391  248  16  1124  203  370   87  2152  \n",
       "\n",
       "[1 rows x 27 columns]"
      ]
     },
     "execution_count": 7,
     "metadata": {},
     "output_type": "execute_result"
    }
   ],
   "source": [
    "df_trans"
   ]
  },
  {
   "cell_type": "code",
   "execution_count": 8,
   "metadata": {},
   "outputs": [],
   "source": [
    "Attacker = df_trans.drop(['GK','LWB', 'RWB', 'LB', 'LCB', 'CB', 'RCB', 'RB', 'LAM', 'CAM', 'RAM', 'LM', 'LCM', 'CM', 'RCM', 'RM', 'LDM', 'CDM', 'RDM'], axis=1)\n",
    "Defender = df_trans.drop(['GK','LAM', 'CAM', 'RAM', 'LM', 'LCM', 'CM', 'RCM', 'RM', 'LDM', 'CDM', 'RDM','LS', 'ST', 'RS', 'LW', 'LF', 'CF', 'RF', 'RW'], axis=1)\n",
    "Midfielder = df_trans.drop(['GK','LWB', 'RWB', 'LB', 'LCB', 'CB', 'RCB', 'RB','LS', 'ST', 'RS', 'LW', 'LF', 'CF', 'RF', 'RW'], axis=1)\n",
    "Goalkeeper = df_trans.drop(['LWB', 'RWB', 'LB', 'LCB', 'CB', 'RCB', 'RB', 'LAM', 'CAM', 'RAM', 'LM', 'LCM', 'CM', 'RCM', 'RM', 'LDM', 'CDM', 'RDM','LS', 'ST', 'RS', 'LW', 'LF', 'CF', 'RF', 'RW'], axis=1)"
   ]
  },
  {
   "cell_type": "code",
   "execution_count": 9,
   "metadata": {},
   "outputs": [],
   "source": [
    "Attacker['Attacker'] = Attacker.sum(axis=1)\n",
    "Defender['Defender']= Defender.sum(axis=1)\n",
    "Midfielder['Midfielder'] = Midfielder.sum(axis=1)\n",
    "Goalkeeper['Goalkeeper'] = Goalkeeper.sum(axis=1)"
   ]
  },
  {
   "cell_type": "code",
   "execution_count": 10,
   "metadata": {},
   "outputs": [],
   "source": [
    "Attacker = Attacker.drop(['ST', 'RS', 'LW', 'LF', 'CF', 'RF', 'RW','LS'], axis=1)\n",
    "Midfielder = Midfielder.drop(['LAM', 'CAM', 'RAM', 'LM', 'LCM', 'CM', 'RCM', 'RM', 'LDM', 'CDM', 'RDM'], axis=1)\n",
    "Defender = Defender.drop(['RWB', 'LB', 'LCB', 'CB', 'RCB', 'RB','LWB'], axis=1)\n",
    "Goalkeeper = Goalkeeper.drop(['GK'], axis=1)"
   ]
  },
  {
   "cell_type": "code",
   "execution_count": 11,
   "metadata": {},
   "outputs": [],
   "source": [
    "Position = pd.concat([Attacker,Midfielder,Defender,Goalkeeper], axis=1)"
   ]
  },
  {
   "cell_type": "code",
   "execution_count": 12,
   "metadata": {},
   "outputs": [
    {
     "data": {
      "text/html": [
       "<div>\n",
       "<style scoped>\n",
       "    .dataframe tbody tr th:only-of-type {\n",
       "        vertical-align: middle;\n",
       "    }\n",
       "\n",
       "    .dataframe tbody tr th {\n",
       "        vertical-align: top;\n",
       "    }\n",
       "\n",
       "    .dataframe thead th {\n",
       "        text-align: right;\n",
       "    }\n",
       "</style>\n",
       "<table border=\"1\" class=\"dataframe\">\n",
       "  <thead>\n",
       "    <tr style=\"text-align: right;\">\n",
       "      <th></th>\n",
       "      <th>Attacker</th>\n",
       "      <th>Midfielder</th>\n",
       "      <th>Defender</th>\n",
       "      <th>Goalkeeper</th>\n",
       "    </tr>\n",
       "  </thead>\n",
       "  <tbody>\n",
       "    <tr>\n",
       "      <th>Position</th>\n",
       "      <td>3418</td>\n",
       "      <td>6838</td>\n",
       "      <td>5866</td>\n",
       "      <td>2025</td>\n",
       "    </tr>\n",
       "  </tbody>\n",
       "</table>\n",
       "</div>"
      ],
      "text/plain": [
       "          Attacker  Midfielder  Defender  Goalkeeper\n",
       "Position      3418        6838      5866        2025"
      ]
     },
     "execution_count": 12,
     "metadata": {},
     "output_type": "execute_result"
    }
   ],
   "source": [
    "Position"
   ]
  },
  {
   "cell_type": "code",
   "execution_count": 13,
   "metadata": {},
   "outputs": [],
   "source": [
    "PT = Position.T"
   ]
  },
  {
   "cell_type": "code",
   "execution_count": 15,
   "metadata": {},
   "outputs": [
    {
     "data": {
      "text/plain": [
       "<matplotlib.axes._subplots.AxesSubplot at 0x7f111e632780>"
      ]
     },
     "execution_count": 15,
     "metadata": {},
     "output_type": "execute_result"
    },
    {
     "data": {
      "image/png": "[encoded data removed]",
      "text/plain": [
       "<Figure size 720x360 with 1 Axes>"
      ]
     },
     "metadata": {},
     "output_type": "display_data"
    }
   ],
   "source": [
    "plt.style.use('dark_background')\n",
    "\n",
    "PT.plot(kind='bar', figsize=(10,5),y='Position',rot=0)\n"
   ]
  }
 ],
 "metadata": {
  "kernelspec": {
   "display_name": "Python 3",
   "language": "python",
   "name": "python3"
  },
  "language_info": {
   "codemirror_mode": {
    "name": "ipython",
    "version": 3
   },
   "file_extension": ".py",
   "mimetype": "text/x-python",
   "name": "python",
   "nbconvert_exporter": "python",
   "pygments_lexer": "ipython3",
   "version": "3.6.8"
  }
 },
 "nbformat": 4,
 "nbformat_minor": 2
}
