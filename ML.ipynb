{
 "cells": [
  {
   "cell_type": "code",
   "execution_count": 19,
   "metadata": {},
   "outputs": [],
   "source": [
    "import numpy as np \n",
    "import pandas as pd\n",
    "import seaborn as sns\n",
    "import seaborn as sns\n",
    "from sklearn.model_selection import train_test_split\n",
    "from sklearn.ensemble import RandomForestRegressor\n",
    "from sklearn.linear_model import LinearRegression\n",
    "from sklearn.model_selection import RandomizedSearchCV\n",
    "from sklearn.preprocessing import OneHotEncoder\n",
    "import re\n",
    "import pickle"
   ]
  },
  {
   "cell_type": "code",
   "execution_count": 20,
   "metadata": {},
   "outputs": [],
   "source": [
    "df1 =pickle.load( open( \"save.p\", \"rb\" ) )"
   ]
  },
  {
   "cell_type": "code",
   "execution_count": 21,
   "metadata": {},
   "outputs": [],
   "source": [
    "df1=pd.DataFrame(data=df1)"
   ]
  },
  {
   "cell_type": "code",
   "execution_count": 22,
   "metadata": {},
   "outputs": [],
   "source": [
    "df1 =df1[['Name','Age','Overall','Value','Potential']]"
   ]
  },
  {
   "cell_type": "code",
   "execution_count": 23,
   "metadata": {},
   "outputs": [],
   "source": [
    "df1= df1[df1.Overall >= 70]"
   ]
  },
  {
   "cell_type": "code",
   "execution_count": 24,
   "metadata": {},
   "outputs": [],
   "source": [
    "df1= df1[df1.Value > 0]"
   ]
  },
  {
   "cell_type": "code",
   "execution_count": 36,
   "metadata": {},
   "outputs": [],
   "source": [
    "df2 =df1[['Age','Overall','Value','Potential']]"
   ]
  },
  {
   "cell_type": "code",
   "execution_count": 32,
   "metadata": {},
   "outputs": [],
   "source": [
    "enc = OneHotEncoder(handle_unknown='ignore')\n",
    "df2 =enc.fit(df2)"
   ]
  },
  {
   "cell_type": "code",
   "execution_count": 37,
   "metadata": {},
   "outputs": [
    {
     "name": "stdout",
     "output_type": "stream",
     "text": [
      "Training matrix of features shape:  (4161, 4)\n",
      "Training dependent variable shape:  (4161, 4)\n",
      "Test matrix of features shape:  (1388, 4)\n",
      "Test dependent variable shape:  (1388, 4)\n"
     ]
    }
   ],
   "source": [
    "X = df2\n",
    "y = df2\n",
    "train_X, test_X, train_y, test_y = train_test_split(X, y, test_size = 0.25, random_state = 42)\n",
    "print('Training matrix of features shape: ', train_X.shape)\n",
    "print('Training dependent variable shape: ', train_y.shape)\n",
    "print('Test matrix of features shape: ', test_X.shape)\n",
    "print('Test dependent variable shape: ', test_y.shape)"
   ]
  },
  {
   "cell_type": "code",
   "execution_count": 38,
   "metadata": {},
   "outputs": [
    {
     "name": "stdout",
     "output_type": "stream",
     "text": [
      "Mean absolute error:  Age              0.31\n",
      "Overall          0.16\n",
      "Value        21668.95\n",
      "Potential        0.26\n",
      "dtype: float64\n",
      "Accuracy:  Age          98.83\n",
      "Overall      99.79\n",
      "Value        99.93\n",
      "Potential    99.68\n",
      "dtype: float64  %\n"
     ]
    }
   ],
   "source": [
    "regressor = RandomForestRegressor(n_estimators=10, random_state=42)\n",
    "regressor.fit(train_X, train_y)\n",
    "predictions = regressor.predict(test_X)\n",
    "errors = abs(predictions - test_y)\n",
    "print('Mean absolute error: ',round(np.mean(errors),2) )\n",
    "#Mean absolute Percentage error\n",
    "mape = 100 * (errors/test_y)\n",
    "\n",
    "#Calculating accuracy\n",
    "acc = 100 - np.mean(mape)\n",
    "print('Accuracy: ', round(acc,2), ' %')"
   ]
  },
  {
   "cell_type": "code",
   "execution_count": null,
   "metadata": {},
   "outputs": [],
   "source": [
    "pd.concat(mape,name)"
   ]
  },
  {
   "cell_type": "code",
   "execution_count": null,
   "metadata": {},
   "outputs": [],
   "source": []
  },
  {
   "cell_type": "code",
   "execution_count": null,
   "metadata": {},
   "outputs": [],
   "source": []
  },
  {
   "cell_type": "code",
   "execution_count": null,
   "metadata": {},
   "outputs": [],
   "source": []
  }
 ],
 "metadata": {
  "kernelspec": {
   "display_name": "Python 3",
   "language": "python",
   "name": "python3"
  },
  "language_info": {
   "codemirror_mode": {
    "name": "ipython",
    "version": 3
   },
   "file_extension": ".py",
   "mimetype": "text/x-python",
   "name": "python",
   "nbconvert_exporter": "python",
   "pygments_lexer": "ipython3",
   "version": "3.6.8"
  }
 },
 "nbformat": 4,
 "nbformat_minor": 2
}
